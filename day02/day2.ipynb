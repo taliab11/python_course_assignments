{
 "cells": [
  {
   "cell_type": "code",
   "execution_count": null,
   "id": "8075100f-8031-4a70-9bd2-da1007b6f4b9",
   "metadata": {},
   "outputs": [
    {
     "name": "stdout",
     "output_type": "stream",
     "text": [
      "The area of the rectangle is 40 and the perimeter is 26 .\n"
     ]
    }
   ],
   "source": [
    "width=5\n",
    "length=8\n",
    "print(\"The area of the rectangle is\", width*length, \"and the perimeter is\", 2*(width+length),\".\")"
   ]
  },
  {
   "cell_type": "code",
   "execution_count": null,
   "id": "0506b53d-1ded-4470-9b4a-ca3e6f790790",
   "metadata": {},
   "outputs": [
    {
     "name": "stdout",
     "output_type": "stream",
     "text": [
      "The area of the circle is 78.53981633974483 and the circumference is 31.41592653589793 .\n"
     ]
    }
   ],
   "source": [
    "radius=5\n",
    "pi=3.141592653589793\n",
    "print(\"The area of the circle is\", pi*radius**2, \"and the circumference is\", 2*pi*radius,\".\")"
   ]
  }
 ],
 "metadata": {
  "kernelspec": {
   "display_name": "Python 3 (ipykernel)",
   "language": "python",
   "name": "python3"
  },
  "language_info": {
   "codemirror_mode": {
    "name": "ipython",
    "version": 3
   },
   "file_extension": ".py",
   "mimetype": "text/x-python",
   "name": "python",
   "nbconvert_exporter": "python",
   "pygments_lexer": "ipython3",
   "version": "3.13.0"
  }
 },
 "nbformat": 4,
 "nbformat_minor": 5
}
