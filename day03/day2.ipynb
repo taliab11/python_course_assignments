{
 "cells": [
  {
   "cell_type": "code",
   "execution_count": 2,
   "id": "8075100f-8031-4a70-9bd2-da1007b6f4b9",
   "metadata": {},
   "outputs": [
    {
     "ename": "TypeError",
     "evalue": "can't multiply sequence by non-int of type 'str'",
     "output_type": "error",
     "traceback": [
      "\u001b[1;31m---------------------------------------------------------------------------\u001b[0m",
      "\u001b[1;31mTypeError\u001b[0m                                 Traceback (most recent call last)",
      "Cell \u001b[1;32mIn[2], line 3\u001b[0m\n\u001b[0;32m      1\u001b[0m width\u001b[38;5;241m=\u001b[39m\u001b[38;5;28minput\u001b[39m(\u001b[38;5;124m\"\u001b[39m\u001b[38;5;124mEnter width:\u001b[39m\u001b[38;5;124m\"\u001b[39m)\n\u001b[0;32m      2\u001b[0m length\u001b[38;5;241m=\u001b[39m\u001b[38;5;28minput\u001b[39m(\u001b[38;5;124m\"\u001b[39m\u001b[38;5;124mEnter length:\u001b[39m\u001b[38;5;124m\"\u001b[39m)\n\u001b[1;32m----> 3\u001b[0m \u001b[38;5;28mprint\u001b[39m(\u001b[38;5;124m\"\u001b[39m\u001b[38;5;124mThe area of the rectangle is\u001b[39m\u001b[38;5;124m\"\u001b[39m, \u001b[43mwidth\u001b[49m\u001b[38;5;241;43m*\u001b[39;49m\u001b[43mlength\u001b[49m, \u001b[38;5;124m\"\u001b[39m\u001b[38;5;124mand the perimeter is\u001b[39m\u001b[38;5;124m\"\u001b[39m, \u001b[38;5;241m2\u001b[39m\u001b[38;5;241m*\u001b[39m(width\u001b[38;5;241m+\u001b[39mlength),\u001b[38;5;124m\"\u001b[39m\u001b[38;5;124m.\u001b[39m\u001b[38;5;124m\"\u001b[39m)\n",
      "\u001b[1;31mTypeError\u001b[0m: can't multiply sequence by non-int of type 'str'"
     ]
    }
   ],
   "source": [
    "width=input(\"Enter width:\")\n",
    "length=input(\"Enter length:\")\n",
    "print(\"The area of the rectangle is\", width*length, \"and the perimeter is\", 2*(width+length),\".\")"
   ]
  },
  {
   "cell_type": "code",
   "execution_count": null,
   "id": "0506b53d-1ded-4470-9b4a-ca3e6f790790",
   "metadata": {},
   "outputs": [
    {
     "name": "stdout",
     "output_type": "stream",
     "text": [
      "The area of the circle is 78.53981633974483 and the circumference is 31.41592653589793 .\n"
     ]
    }
   ],
   "source": [
    "radius=5\n",
    "pi=3.141592653589793\n",
    "print(\"The area of the circle is\", pi*radius**2, \"and the circumference is\", 2*pi*radius,\".\")"
   ]
  }
 ],
 "metadata": {
  "kernelspec": {
   "display_name": "Python 3",
   "language": "python",
   "name": "python3"
  },
  "language_info": {
   "codemirror_mode": {
    "name": "ipython",
    "version": 3
   },
   "file_extension": ".py",
   "mimetype": "text/x-python",
   "name": "python",
   "nbconvert_exporter": "python",
   "pygments_lexer": "ipython3",
   "version": "3.13.0"
  }
 },
 "nbformat": 4,
 "nbformat_minor": 5
}
