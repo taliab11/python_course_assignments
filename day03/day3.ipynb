{
 "cells": [
  {
   "cell_type": "code",
   "execution_count": 1,
   "id": "c06c4797-c450-4642-a2cb-a29f30863832",
   "metadata": {},
   "outputs": [
    {
     "name": "stdout",
     "output_type": "stream",
     "text": [
      "Enter width: 3\n",
      "Enter length: 4\n"
     ]
    },
    {
     "name": "stdout",
     "output_type": "stream",
     "text": [
      "The area of the rectangle is 12 and the perimeter is 14 .\n"
     ]
    }
   ],
   "source": [
    "width=int(input(\"Enter width:\"))\n",
    "length=int(input(\"Enter length:\"))\n",
    "print(\"The area of the rectangle is\", width*length, \"and the perimeter is\", 2*(width+length),\".\")"
   ]
  },
  {
   "cell_type": "code",
   "execution_count": 2,
   "id": "4e8e22b0-0226-4a0f-82cd-337056b4c0c4",
   "metadata": {},
   "outputs": [
    {
     "name": "stdout",
     "output_type": "stream",
     "text": [
      "Enter radius: 5\n"
     ]
    },
    {
     "name": "stdout",
     "output_type": "stream",
     "text": [
      "The area of the circle is 78.53981633974483 and the circumference is 31.41592653589793 .\n"
     ]
    }
   ],
   "source": [
    "pi=3.141592653589793\n",
    "radius=int(input(\"Enter radius:\"))\n",
    "print(\"The area of the circle is\", pi*radius**2, \"and the circumference is\", 2*pi*radius,\".\")"
   ]
  },
  {
   "cell_type": "code",
   "execution_count": null,
   "id": "295d337a-8d59-4121-b2da-fdb76579376e",
   "metadata": {},
   "outputs": [],
   "source": []
  }
 ],
 "metadata": {
  "kernelspec": {
   "display_name": "Python 3",
   "language": "python",
   "name": "python3"
  },
  "language_info": {
   "codemirror_mode": {
    "name": "ipython",
    "version": 3
   },
   "file_extension": ".py",
   "mimetype": "text/x-python",
   "name": "python",
   "nbconvert_exporter": "python",
   "pygments_lexer": "ipython3",
   "version": "3.13.0"
  }
 },
 "nbformat": 4,
 "nbformat_minor": 5
}
