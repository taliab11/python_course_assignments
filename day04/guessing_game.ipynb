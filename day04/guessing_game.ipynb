{
 "cells": [
  {
   "cell_type": "code",
   "execution_count": 16,
   "metadata": {},
   "outputs": [],
   "source": [
    "# Write a Python program that is a number guessing game:\n",
    "# The computer \"thinks\" a about a whole number between 1 and 20\n",
    "\n",
    "# The user guesses\n",
    "\n",
    "# The computer tells if the guess was too small, too big or exact.\n",
    "\n",
    "# If exact the user wins, the program ends. Otherwise the user can guess again.\n",
    "\n",
    "# At the end of the game print out how many guesses the user needed.\n",
    "\n",
    "# Allow the user to play several games: once one game ends ask her if she wants to play again, generate a new random number and play again.\n",
    "\n",
    "# If the user enters \"x\" any time, exit the program.\n",
    "\n",
    "# If the user enters \"n\" any time, leave the current game and ask if she wants to play a new game?\n",
    "\n",
    "# If the user enters \"s\" any time, show the hidden number (cheating).\n",
    "\n",
    "# Move the code in a function called main and split up the code into several function that make sense."
   ]
  },
  {
   "cell_type": "markdown",
   "metadata": {},
   "source": [
    "<!-- # Write a Python program that is a number guessing game:\n",
    "# The computer \"thinks\" a about a whole number between 1 and 20\n",
    "\n",
    "# The user guesses\n",
    "\n",
    "# The computer tells if the guess was too small, too big or exact.\n",
    "\n",
    "# If exact the user wins, the program ends. Otherwise the user can guess again.\n",
    "\n",
    "# At the end of the game print out how many guesses the user needed.\n",
    "\n",
    "# Allow the user to play several games: once one game ends ask her if she wants to play again, generate a new random number and play again.\n",
    "\n",
    "# If the user enters \"x\" any time, exit the program.\n",
    "\n",
    "# If the user enters \"n\" any time, leave the current game and ask if she wants to play a new game?\n",
    "\n",
    "# If the user enters \"s\" any time, show the hidden number (cheating).\n",
    "\n",
    "# Move the code in a function called main and split up the code into several function that make sense. -->"
   ]
  },
  {
   "cell_type": "code",
   "execution_count": 6,
   "metadata": {},
   "outputs": [],
   "source": [
    "def game():\n",
    "    import random\n",
    "    randnum=random.randint(1,20)\n",
    "    print(\"Guess a whole number between 1:20\")\n",
    "    num_of_guesses=0\n",
    "    while True:\n",
    "        guess=input(\"What is your guess?\")\n",
    "        if guess==\"x\":\n",
    "            return\n",
    "        if guess==\"n\":\n",
    "            break\n",
    "        if guess==\"s\":\n",
    "            print(\"What a cheater! The answer you are looking for is\", randnum)\n",
    "            continue\n",
    "        guess=int(guess)\n",
    "        num_of_guesses+=1\n",
    "        if randnum==guess:\n",
    "            print(\"Your guess was exact, good job!\")\n",
    "            print(\"You needed\",num_of_guesses,\"guesses to win this game\")\n",
    "            break\n",
    "        elif randnum>guess:\n",
    "            print(\"Your guess was too small, try again\")\n",
    "        else:\n",
    "            print(\"Your guess was too big, try again\")\n",
    "    again=input(\"Would you like to start a new game? If so, answer yes\")\n",
    "    if again==\"yes\":\n",
    "        game()\n",
    "    else:\n",
    "        return"
   ]
  },
  {
   "cell_type": "code",
   "execution_count": null,
   "metadata": {},
   "outputs": [],
   "source": [
    "game()"
   ]
  },
  {
   "cell_type": "code",
   "execution_count": 8,
   "metadata": {},
   "outputs": [],
   "source": [
    "def main():\n",
    "    game()\n",
    "    print(\"You exited the game, goodbye!\")\n",
    "    return"
   ]
  },
  {
   "cell_type": "code",
   "execution_count": 17,
   "metadata": {},
   "outputs": [
    {
     "name": "stdout",
     "output_type": "stream",
     "text": [
      "Guess a whole number between 1:20\n",
      "Your guess was too small, try again\n",
      "Your guess was too big, try again\n",
      "Your guess was too small, try again\n",
      "Your guess was exact, good job!\n",
      "You needed 4 guesses to win this game\n",
      "You exited the game, goodbye!\n"
     ]
    }
   ],
   "source": [
    "main()"
   ]
  }
 ],
 "metadata": {
  "kernelspec": {
   "display_name": "Python 3",
   "language": "python",
   "name": "python3"
  },
  "language_info": {
   "codemirror_mode": {
    "name": "ipython",
    "version": 3
   },
   "file_extension": ".py",
   "mimetype": "text/x-python",
   "name": "python",
   "nbconvert_exporter": "python",
   "pygments_lexer": "ipython3",
   "version": "3.13.0"
  }
 },
 "nbformat": 4,
 "nbformat_minor": 2
}
