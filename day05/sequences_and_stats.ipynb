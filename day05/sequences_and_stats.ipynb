{
 "cells": [
  {
   "cell_type": "code",
   "execution_count": 82,
   "metadata": {},
   "outputs": [
    {
     "name": "stdout",
     "output_type": "stream",
     "text": [
      "\n",
      "a_seq.txt\n",
      "A: 2 (7.41%)\n",
      "C: 5 (18.52%)\n",
      "G: 6 (22.22%)\n",
      "T: 7 (25.93%)\n",
      "Unknown: 7 (25.93%)\n",
      "Total: 27\n",
      "All\n",
      "A: 2 (7.41%)\n",
      "C: 5 (18.52%)\n",
      "G: 6 (22.22%)\n",
      "T: 7 (25.93%)\n",
      "Unknown: 7 (25.93%)\n",
      "Total: 27\n"
     ]
    },
    {
     "data": {
      "text/plain": [
       "'\\na_seq.txt\\nA: 2 (7.41%)\\nC: 5 (18.52%)\\nG: 6 (22.22%)\\nT: 7 (25.93%)\\nUnknown: 7 (25.93%)\\nTotal: 27\\nAll\\nA: 2 (7.41%)\\nC: 5 (18.52%)\\nG: 6 (22.22%)\\nT: 7 (25.93%)\\nUnknown: 7 (25.93%)\\nTotal: 27'"
      ]
     },
     "execution_count": 82,
     "metadata": {},
     "output_type": "execute_result"
    }
   ],
   "source": [
    "\n",
    "import io\n",
    "from contextlib import redirect_stdout\n",
    "\n",
    "def seq_and_stats(filenames):\n",
    "    filenames = filenames.split()\n",
    "    total_bases = [0,0,0,0,0]\n",
    "    bases = [\"A\",\"C\",\"G\",\"T\",\"Unknown\"]\n",
    "    output = []\n",
    "    for filename in filenames:\n",
    "        with open(filename) as f:\n",
    "            sequence = f.read().strip().upper()\n",
    "        file_bases = [0,0,0,0,0]\n",
    "        for base in bases[0:4]:\n",
    "            file_bases[bases.index(base)] = sequence.count(base)\n",
    "            total_bases[bases.index(base)] += sequence.count(base)\n",
    "        file_bases[4] = len(sequence)-sum(file_bases)\n",
    "        total_bases[4] += file_bases[4]\n",
    "        print(f\"\\n{filename}\")\n",
    "        output.append(f\"\\n{filename}\")\n",
    "        for i in range(5):\n",
    "            print(f\"{bases[i]}: {file_bases[i]} ({file_bases[i] / sum(file_bases) * 100:.2f}%)\")\n",
    "            output.append(f\"{bases[i]}: {file_bases[i]} ({file_bases[i] / sum(file_bases) * 100:.2f}%)\")\n",
    "        print(f\"Total: {sum(file_bases)}\")\n",
    "        output.append(f\"Total: {sum(file_bases)}\")\n",
    "    print(\"All\")\n",
    "    output.append(\"All\")\n",
    "    for i in range(5):\n",
    "        print(f\"{bases[i]}: {total_bases[i]} ({total_bases[i] / sum(total_bases) * 100:.2f}%)\")\n",
    "        output.append(f\"{bases[i]}: {total_bases[i]} ({total_bases[i] / sum(total_bases) * 100:.2f}%)\")\n",
    "    print(f\"Total: {sum(total_bases)}\")\n",
    "    output.append(f\"Total: {sum(total_bases)}\")\n",
    "    return \"\\n\".join(output)\n",
    "\n",
    "filenames = input(\"Enter your sequence files:\")\n",
    "seq_and_stats(filenames)"
   ]
  },
  {
   "cell_type": "code",
   "execution_count": 80,
   "metadata": {},
   "outputs": [],
   "source": [
    "def normalize_output(output):\n",
    "    \"\"\"Normalize output by stripping extra spaces and standardizing line endings.\"\"\"\n",
    "    return \"\\n\".join(line.strip() for line in output.strip().splitlines())\n",
    "\n",
    "def test_seq():\n",
    "    with io.StringIO() as buf, redirect_stdout(buf):\n",
    "        result = normalize_output(seq_and_stats(\"b_seq.txt\"))\n",
    "        expected = normalize_output(\n",
    "                    \"\"\"\n",
    "                    b_seq.txt\n",
    "                    A: 1 (10.00%)\n",
    "                    C: 2 (20.00%)\n",
    "                    G: 3 (30.00%)\n",
    "                    T: 4 (40.00%)\n",
    "                    Unknown: 0 (0.00%)\n",
    "                    Total: 10\n",
    "                    All\n",
    "                    A: 1 (10.00%)\n",
    "                    C: 2 (20.00%)\n",
    "                    G: 3 (30.00%)\n",
    "                    T: 4 (40.00%)\n",
    "                    Unknown: 0 (0.00%)\n",
    "                    Total: 10\n",
    "                    \"\"\"\n",
    "        )\n",
    "        assert result == expected, (f\"Test failed!\\nExpected:\\n{repr(expected)}\\nGot:\\n{repr(result)}\")\n",
    "\n",
    "        \n",
    "        \n",
    "            \n",
    "    \n",
    "def test_seq2():\n",
    "    with io.StringIO() as buf, redirect_stdout(buf):\n",
    "        result = normalize_output(seq_and_stats(\"a_seq.txt b_seq.txt\"))\n",
    "        expected = normalize_output(\n",
    "                    \"\"\"\n",
    "                    a_seq.txt\n",
    "                    A: 2 (7.41%)\n",
    "                    C: 5 (18.52%)\n",
    "                    G: 6 (22.22%)\n",
    "                    T: 7 (25.93%)\n",
    "                    Unknown: 7 (25.93%)\n",
    "                    Total: 27\n",
    "\n",
    "                    b_seq.txt\n",
    "                    A: 1 (10.00%)\n",
    "                    C: 2 (20.00%)\n",
    "                    G: 3 (30.00%)\n",
    "                    T: 4 (40.00%)\n",
    "                    Unknown: 0 (0.00%)\n",
    "                    Total: 10\n",
    "                    All\n",
    "                    A: 3 (8.11%)\n",
    "                    C: 7 (18.92%)\n",
    "                    G: 9 (24.32%)\n",
    "                    T: 11 (29.73%)\n",
    "                    Unknown: 7 (18.92%)\n",
    "                    Total: 37\n",
    "                    \"\"\"\n",
    "        )\n",
    "        assert result == expected, (f\"Test failed!\\nExpected:\\n{repr(expected)}\\nGot:\\n{repr(result)}\")"
   ]
  },
  {
   "cell_type": "code",
   "execution_count": 81,
   "metadata": {},
   "outputs": [
    {
     "name": "stdout",
     "output_type": "stream",
     "text": [
      "All tests passed!\n"
     ]
    }
   ],
   "source": [
    "test_seq()\n",
    "test_seq2()\n",
    "print(\"All tests passed!\")"
   ]
  }
 ],
 "metadata": {
  "kernelspec": {
   "display_name": "Python 3",
   "language": "python",
   "name": "python3"
  },
  "language_info": {
   "codemirror_mode": {
    "name": "ipython",
    "version": 3
   },
   "file_extension": ".py",
   "mimetype": "text/x-python",
   "name": "python",
   "nbconvert_exporter": "python",
   "pygments_lexer": "ipython3",
   "version": "3.13.0"
  }
 },
 "nbformat": 4,
 "nbformat_minor": 2
}
